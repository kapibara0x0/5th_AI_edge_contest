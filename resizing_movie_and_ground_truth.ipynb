{
 "cells": [
  {
   "cell_type": "markdown",
   "id": "339ac912",
   "metadata": {},
   "source": [
    "# 学習用動画データ(mp4)とアノテーションデータ(json)を読みこみ、指定した縦横のサイズにリサイズする。"
   ]
  },
  {
   "cell_type": "code",
   "execution_count": 2,
   "id": "71e616f0",
   "metadata": {},
   "outputs": [],
   "source": [
    "import cv2\n",
    "import json"
   ]
  },
  {
   "cell_type": "code",
   "execution_count": 3,
   "id": "3b6258ce",
   "metadata": {},
   "outputs": [],
   "source": [
    "# リサイズしたい動画とアノテーションデータのパスを指定する。\n",
    "train_movie_path = \"./train_videos/train_00.mp4\"\n",
    "train_annotations_path = \"./train_annotations/train_00.json\"\n",
    "# リサイズ後の動画とアノテーションデータの保存先のパスを指定する。\n",
    "train_movie_resized_path = \"./train_videos_resized/train_00.mp4\"\n",
    "train_annotations_resized_path = \"./train_annotations_resized/train_00.json\""
   ]
  },
  {
   "cell_type": "code",
   "execution_count": 4,
   "id": "e6faeaa3",
   "metadata": {},
   "outputs": [
    {
     "name": "stdout",
     "output_type": "stream",
     "text": [
      "(1936, 1216)\n",
      "0.21487603305785125\n",
      "0.34210526315789475\n"
     ]
    }
   ],
   "source": [
    "# 学習用動画データのロード\n",
    "video = cv2.VideoCapture(train_movie_path)\n",
    "width = int(video.get(cv2.CAP_PROP_FRAME_WIDTH))\n",
    "height = int(video.get(cv2.CAP_PROP_FRAME_HEIGHT))\n",
    "size = (width, height)\n",
    "frame_rate = int(video.get(cv2.CAP_PROP_FPS))\n",
    "print(size)\n",
    "\n",
    "resized_width = 416 # リサイズ後の横幅\n",
    "resized_height = 416 # リサイズ後の縦幅\n",
    "resized_size = (resized_width, resized_height)\n",
    "scale_2_resize_width = resized_width / width # リサイズ後とリサイズ前の横幅の比率\n",
    "scale_2_resize_height = resized_height / height # リサイズ後とリサイズ前の縦幅の比率\n",
    "print(scale_2_resize_width)\n",
    "print(scale_2_resize_height)"
   ]
  },
  {
   "cell_type": "code",
   "execution_count": 4,
   "id": "5c737435",
   "metadata": {},
   "outputs": [],
   "source": [
    "# 動画をリサイズして保存する。\n",
    "fmt = cv2.VideoWriter_fourcc('m', 'p', '4', 'v')\n",
    "writer = cv2.VideoWriter(train_movie_resized_path, fmt, frame_rate, resized_size)\n",
    "while True:\n",
    "    ret, frame = video.read()\n",
    "    if ret is False:\n",
    "        break\n",
    "    frame = cv2.resize(frame, dsize=resized_size)\n",
    "    writer.write(frame)\n",
    "writer.release()\n",
    "video.release()\n",
    "cv2.destroyAllWindows()"
   ]
  },
  {
   "cell_type": "code",
   "execution_count": 5,
   "id": "8b7a44cd",
   "metadata": {},
   "outputs": [],
   "source": [
    "# 動画のリサイズに合わせてアノテーションデータを修正します。\n",
    "\n",
    "# 学習用動画データのアノテーションデータのオープン\n",
    "with open(train_annotations_path, 'r') as f:\n",
    "    train_annotations_json = json.load(f) # 辞書型に変換\n",
    "\n",
    "# 1フレームずつ処理します。\n",
    "for sequence in range(len(train_annotations_json['sequence'])):\n",
    "    # 1フレームに含まれるデータをカテゴリずつ処理します。\n",
    "    for category in train_annotations_json['sequence'][sequence].keys():\n",
    "        # 1フレームの1カテゴリに対して、真値のデータは複数あるので一つずつ処理します。\n",
    "        for index, rect_info in enumerate(train_annotations_json['sequence'][sequence][category]):\n",
    "            box2d = rect_info['box2d']\n",
    "            train_annotations_json['sequence'][sequence][category][index]['box2d'][0] = int(box2d[0] * scale_2_resize_width)\n",
    "            train_annotations_json['sequence'][sequence][category][index]['box2d'][1] = int(box2d[1] * scale_2_resize_height)\n",
    "            train_annotations_json['sequence'][sequence][category][index]['box2d'][2] = int(box2d[2] * scale_2_resize_width)\n",
    "            train_annotations_json['sequence'][sequence][category][index]['box2d'][3] = int(box2d[3] * scale_2_resize_height)\n",
    "                                                                                   \n",
    "with open(train_annotations_resized_path, 'w') as f:\n",
    "    json.dump(train_annotations_json, f)"
   ]
  },
  {
   "cell_type": "markdown",
   "id": "0d9ba13e",
   "metadata": {},
   "source": [
    "## 全トレーニングデータにリサイズ処理を実施します。"
   ]
  },
  {
   "cell_type": "code",
   "execution_count": 10,
   "id": "c60789ed",
   "metadata": {},
   "outputs": [],
   "source": [
    "# 上記のリサイズ処理はutil.pyにモジュール化してあるので読み込みます。\n",
    "from util import resize_video\n",
    "from util import resize_annotation\n",
    "\n",
    "train_data_num = 25 # 学習用動画データの数"
   ]
  },
  {
   "cell_type": "code",
   "execution_count": 6,
   "id": "fa024cdf",
   "metadata": {},
   "outputs": [],
   "source": [
    "# 全動画データをリサイズ\n",
    "save_fourcc = \"mp4v\"\n",
    "resized_width = 416 # リサイズ後の横幅\n",
    "resized_height = 416 # リサイズ後の縦幅\n",
    "for index in range(train_data_num):\n",
    "    train_video_path = \"./train_videos/train_{:02}.mp4\".format(index) # 読込先\n",
    "    train_video_resized_path = \"./train_videos_resized/train_{:02}.mp4\".format(index) # 保存先\n",
    "    resize_video(train_video_path, train_video_resized_path, save_fourcc, resized_width, resized_height)"
   ]
  },
  {
   "cell_type": "code",
   "execution_count": 9,
   "id": "9b5ce098",
   "metadata": {},
   "outputs": [],
   "source": [
    "# 全アノテーションデータをリサイズ\n",
    "width = 1936 # 元動画の横幅\n",
    "height = 1216 # 元動画の縦幅\n",
    "scale_2_resize_width = resized_width / width # リサイズ後とリサイズ前の横幅の比率\n",
    "scale_2_resize_height = resized_height / height # リサイズ後とリサイズ前の縦幅の比率\n",
    "\n",
    "for index in range(train_data_num):\n",
    "    train_annotation_path = \"./train_annotations/train_{:02}.json\".format(index) # 読込先\n",
    "    train_annotation_resized_path = \"./train_annotations_resized/train_{:02}.json\".format(index) # 保存先\n",
    "    resize_annotation(train_annotation_path, train_annotation_resized_path, scale_2_resize_width, scale_2_resize_height)"
   ]
  },
  {
   "cell_type": "code",
   "execution_count": null,
   "id": "f84c5a5a",
   "metadata": {},
   "outputs": [],
   "source": []
  }
 ],
 "metadata": {
  "kernelspec": {
   "display_name": "Python 3",
   "language": "python",
   "name": "python3"
  },
  "language_info": {
   "codemirror_mode": {
    "name": "ipython",
    "version": 3
   },
   "file_extension": ".py",
   "mimetype": "text/x-python",
   "name": "python",
   "nbconvert_exporter": "python",
   "pygments_lexer": "ipython3",
   "version": "3.7.1"
  }
 },
 "nbformat": 4,
 "nbformat_minor": 5
}
