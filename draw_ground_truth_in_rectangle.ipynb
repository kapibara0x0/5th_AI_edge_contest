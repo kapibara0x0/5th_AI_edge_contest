{
 "cells": [
  {
   "cell_type": "markdown",
   "id": "60d22ae7",
   "metadata": {},
   "source": [
    "# 学習用動画データ(mp4)とアノテーションデータ(json)を読みこみ、真値を矩形で描画して動画(mp4)で保存する。"
   ]
  },
  {
   "cell_type": "code",
   "execution_count": 9,
   "id": "433d956e",
   "metadata": {},
   "outputs": [],
   "source": [
    "import cv2\n",
    "import json\n",
    "from PIL import Image\n",
    "from PIL import ImageColor"
   ]
  },
  {
   "cell_type": "code",
   "execution_count": 10,
   "id": "d82c077a",
   "metadata": {},
   "outputs": [],
   "source": [
    "# 各種パスの設定\n",
    "train_movie_path = \"./train_videos_resized/train_02.mp4\"\n",
    "train_annotations_path = \"./train_annotations_resized/train_02.json\"\n",
    "categories_path = \"./docs/categories\" # カテゴリファイル。1行ごとにカテゴリ名が記載。"
   ]
  },
  {
   "cell_type": "code",
   "execution_count": 11,
   "id": "32a78650",
   "metadata": {
    "scrolled": false
   },
   "outputs": [
    {
     "data": {
      "text/plain": [
       "{'Car': [{'id': 419, 'box2d': [304, 208, 325, 230]},\n",
       "  {'id': 421, 'box2d': [82, 190, 104, 215]},\n",
       "  {'id': 404, 'box2d': [18, 176, 62, 218]},\n",
       "  {'id': 405, 'box2d': [372, 206, 415, 241]},\n",
       "  {'id': 420, 'box2d': [54, 181, 85, 216]},\n",
       "  {'id': 422, 'box2d': [325, 206, 337, 225]},\n",
       "  {'id': 416, 'box2d': [299, 203, 305, 214]},\n",
       "  {'id': 412, 'box2d': [0, 184, 18, 207]}],\n",
       " 'Signal': [{'id': 15, 'box2d': [14, 26, 42, 68]},\n",
       "  {'id': 12, 'box2d': [289, 157, 298, 164]}],\n",
       " 'Signs': [{'id': 38, 'box2d': [269, 166, 275, 175]}],\n",
       " 'Pedestrian': [{'id': 3698, 'box2d': [263, 199, 269, 226]},\n",
       "  {'id': 3910, 'box2d': [270, 201, 275, 225]},\n",
       "  {'id': 3941, 'box2d': [156, 188, 171, 238]},\n",
       "  {'id': 4000, 'box2d': [223, 198, 229, 221]},\n",
       "  {'id': 3991, 'box2d': [101, 185, 115, 242]},\n",
       "  {'id': 3978, 'box2d': [147, 191, 156, 228]},\n",
       "  {'id': 3986, 'box2d': [228, 198, 235, 226]},\n",
       "  {'id': 3995, 'box2d': [201, 196, 208, 222]},\n",
       "  {'id': 3994, 'box2d': [252, 200, 256, 220]},\n",
       "  {'id': 3997, 'box2d': [189, 196, 197, 219]},\n",
       "  {'id': 3998, 'box2d': [121, 192, 125, 212]},\n",
       "  {'id': 3962, 'box2d': [180, 195, 188, 230]}],\n",
       " 'Truck': [{'id': 99, 'box2d': [336, 200, 363, 229]},\n",
       "  {'id': 100, 'box2d': [275, 196, 281, 210]}]}"
      ]
     },
     "execution_count": 11,
     "metadata": {},
     "output_type": "execute_result"
    }
   ],
   "source": [
    "# 学習用動画データのアノテーションのロード\n",
    "with open(train_annotations_path, 'r') as f:\n",
    "    train_annotations_json = json.load(f)\n",
    "train_annotations_json['sequence'][0]"
   ]
  },
  {
   "cell_type": "code",
   "execution_count": 12,
   "id": "7aed3271",
   "metadata": {},
   "outputs": [
    {
     "name": "stdout",
     "output_type": "stream",
     "text": [
      "画像の(横,縦)サイズ：(416, 416)\n",
      "画像の枚数：600\n",
      "フレームレート(fps)：5\n"
     ]
    }
   ],
   "source": [
    "# 学習用動画データのロード\n",
    "video = cv2.VideoCapture(train_movie_path)\n",
    "width = int(video.get(cv2.CAP_PROP_FRAME_WIDTH))\n",
    "height = int(video.get(cv2.CAP_PROP_FRAME_HEIGHT))\n",
    "size = (width, height)\n",
    "frame_count = int(video.get(cv2.CAP_PROP_FRAME_COUNT))\n",
    "frame_rate = int(video.get(cv2.CAP_PROP_FPS))\n",
    "\n",
    "print(\"画像の(横,縦)サイズ：\" + str(size))\n",
    "print(\"画像の枚数：\" + str(frame_count))\n",
    "print(\"フレームレート(fps)：\" + str(frame_rate))"
   ]
  },
  {
   "cell_type": "code",
   "execution_count": 13,
   "id": "0d8301bb",
   "metadata": {},
   "outputs": [
    {
     "name": "stdout",
     "output_type": "stream",
     "text": [
      "['Car', 'Bus', 'Truck', 'Svehicle', 'Pedestrian', 'Motorbike', 'Bicycle', 'Train', 'Signal', 'Signs']\n",
      "Car: RGB is (255, 0, 0)\n",
      "Bus: RGB is (255, 153, 0)\n",
      "Truck: RGB is (204, 255, 0)\n",
      "Svehicle: RGB is (51, 255, 0)\n",
      "Pedestrian: RGB is (0, 255, 102)\n",
      "Motorbike: RGB is (0, 255, 255)\n",
      "Bicycle: RGB is (0, 102, 255)\n",
      "Train: RGB is (51, 0, 255)\n",
      "Signal: RGB is (204, 0, 255)\n",
      "Signs: RGB is (255, 0, 153)\n"
     ]
    }
   ],
   "source": [
    "class CategoriesReader():\n",
    "    categories = []\n",
    "    categories_color = {}\n",
    "    def __init__(self, categories_file_path):\n",
    "        with open(categories_file_path, 'r') as f:\n",
    "            categories = f.readlines()\n",
    "            self.categories = [c.strip() for c in categories] # 改行文字の削除\n",
    "        self.assign_colors()\n",
    "    def get_categories(self):\n",
    "        return self.categories\n",
    "\n",
    "    def assign_colors(self):\n",
    "        '''\n",
    "        HSVの色相(H)をカテゴリ数で分割し、カテゴリごとに色を割り当てる\n",
    "        '''\n",
    "        cat_num = len(self.categories)\n",
    "        for i, category in enumerate(self.categories):\n",
    "            h = int(360 / (cat_num)) * i\n",
    "            s = 100 # 100%\n",
    "            v = 100 # 100%\n",
    "            color = ImageColor.getrgb(\"hsv({},{}%,{}%)\".format(str(h), str(s), str(v)))\n",
    "            self.categories_color[category] = color\n",
    "\n",
    "    def get_category_color(self, category):\n",
    "        return self.categories_color[category]\n",
    "\n",
    "# カテゴリファイルの読み込みを行う\n",
    "categories = CategoriesReader(categories_path)\n",
    "category_names = categories.get_categories()\n",
    "print(category_names)\n",
    "\n",
    "# 矩形描画用にカテゴリごとに色を割り当てられているのを確認する\n",
    "for category in category_names:\n",
    "    print(\"{}: RGB is {}\".format(category , str(categories.get_category_color(category))))"
   ]
  },
  {
   "cell_type": "code",
   "execution_count": 14,
   "id": "fd39778f",
   "metadata": {},
   "outputs": [],
   "source": [
    "# シーケンス番号\n",
    "sequence = 0\n",
    "\n",
    "# 動画保存用にVideoWriterオブジェクト生成\n",
    "fmt = cv2.VideoWriter_fourcc('m', 'p', '4', 'v')\n",
    "writer = cv2.VideoWriter('./result.mp4', fmt, frame_rate, size)\n",
    "\n",
    "while True:\n",
    "    ret, frame = video.read()\n",
    "    if ret is False:\n",
    "        break\n",
    "    # Jsonファイルからシーケンス番号に関連するカテゴリを読み込む\n",
    "    for category in category_names:\n",
    "        category_values = train_annotations_json['sequence'][sequence].get(category)\n",
    "        if category_values is not None:\n",
    "            # 矩形を検出したら\n",
    "            for rect_info in category_values:\n",
    "                id_number = rect_info['id']\n",
    "                box2d = rect_info['box2d']\n",
    "                # 画像に矩形を描画する\n",
    "                pt1 = (box2d[0], box2d[1])\n",
    "                pt2 = (box2d[2], box2d[3])\n",
    "                color = categories.get_category_color(category)\n",
    "                cv2.rectangle(frame, pt1, pt2, color, thickness=1)\n",
    "                # 矩形の上にカテゴリとid番号を記述する\n",
    "                # 画像，テキスト，位置（左下），フォント，スケール，色，線太さ，種類\n",
    "                cv2.putText(frame, category, pt1, cv2.FONT_HERSHEY_PLAIN, 0.5, color, 1, cv2.LINE_AA)\n",
    "    writer.write(frame)\n",
    "    sequence += 1\n",
    "writer.release()"
   ]
  },
  {
   "cell_type": "code",
   "execution_count": 15,
   "id": "7f5ca32d",
   "metadata": {},
   "outputs": [],
   "source": [
    "video.release()\n",
    "cv2.destroyAllWindows()"
   ]
  },
  {
   "cell_type": "code",
   "execution_count": null,
   "id": "61833824",
   "metadata": {},
   "outputs": [],
   "source": []
  },
  {
   "cell_type": "code",
   "execution_count": null,
   "id": "77ca6430",
   "metadata": {},
   "outputs": [],
   "source": []
  }
 ],
 "metadata": {
  "kernelspec": {
   "display_name": "Python 3",
   "language": "python",
   "name": "python3"
  },
  "language_info": {
   "codemirror_mode": {
    "name": "ipython",
    "version": 3
   },
   "file_extension": ".py",
   "mimetype": "text/x-python",
   "name": "python",
   "nbconvert_exporter": "python",
   "pygments_lexer": "ipython3",
   "version": "3.7.1"
  }
 },
 "nbformat": 4,
 "nbformat_minor": 5
}
