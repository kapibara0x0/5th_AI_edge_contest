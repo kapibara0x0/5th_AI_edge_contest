{
 "cells": [
  {
   "cell_type": "markdown",
   "id": "60d22ae7",
   "metadata": {},
   "source": [
    "# 第5回AIエッジコンテストの学習用動画データ(mp4)を読みこみ、真値を矩形で描画して動画(mp4)で保存する。"
   ]
  },
  {
   "cell_type": "code",
   "execution_count": 14,
   "id": "433d956e",
   "metadata": {},
   "outputs": [],
   "source": [
    "import cv2\n",
    "import json\n",
    "from PIL import Image\n",
    "from PIL import ImageColor"
   ]
  },
  {
   "cell_type": "code",
   "execution_count": 15,
   "id": "d82c077a",
   "metadata": {},
   "outputs": [],
   "source": [
    "# 各種パスの設定\n",
    "train_movie_path = \"./train_videos/train_00.mp4\"\n",
    "train_annotations_path = \"./train_annotations/train_00.json\"\n",
    "categories_path = \"./docs/categories\" # カテゴリファイル。1行ごとにカテゴリ名が記載。"
   ]
  },
  {
   "cell_type": "code",
   "execution_count": 16,
   "id": "32a78650",
   "metadata": {
    "scrolled": false
   },
   "outputs": [
    {
     "data": {
      "text/plain": [
       "{'Signal': [{'id': 56, 'box2d': [655, 194, 754, 236]},\n",
       "  {'id': 57, 'box2d': [858, 443, 893, 455]}],\n",
       " 'Signs': [{'id': 149, 'box2d': [440, 433, 494, 483]}],\n",
       " 'Pedestrian': [{'id': 8972, 'box2d': [1239, 568, 1290, 755]},\n",
       "  {'id': 9004, 'box2d': [1748, 617, 1789, 713]},\n",
       "  {'id': 8985, 'box2d': [531, 563, 552, 618]},\n",
       "  {'id': 8984, 'box2d': [446, 558, 494, 684]},\n",
       "  {'id': 8980, 'box2d': [821, 560, 952, 784]},\n",
       "  {'id': 8989, 'box2d': [326, 552, 360, 653]},\n",
       "  {'id': 8995, 'box2d': [1337, 595, 1353, 635]},\n",
       "  {'id': 8996, 'box2d': [353, 554, 417, 686]},\n",
       "  {'id': 8997, 'box2d': [1512, 591, 1533, 648]},\n",
       "  {'id': 8992, 'box2d': [281, 546, 321, 650]},\n",
       "  {'id': 9000, 'box2d': [1582, 594, 1615, 684]},\n",
       "  {'id': 9001, 'box2d': [1103, 591, 1113, 618]},\n",
       "  {'id': 9002, 'box2d': [1045, 590, 1055, 615]},\n",
       "  {'id': 9003, 'box2d': [1356, 592, 1368, 629]},\n",
       "  {'id': 8920, 'box2d': [1695, 604, 1737, 722]}],\n",
       " 'Car': [{'id': 1177, 'box2d': [1194, 601, 1243, 622]}],\n",
       " 'Motorbike': [{'id': 70, 'box2d': [1598, 622, 1652, 681]}],\n",
       " 'Bicycle': [{'id': 198, 'box2d': [1740, 646, 1831, 724]},\n",
       "  {'id': 194, 'box2d': [1381, 619, 1419, 671]}]}"
      ]
     },
     "execution_count": 16,
     "metadata": {},
     "output_type": "execute_result"
    }
   ],
   "source": [
    "# 学習用動画データのアノテーションのロード\n",
    "with open(train_annotations_path, 'r') as f:\n",
    "    train_annotations_json = json.load(f)\n",
    "train_annotations_json['sequence'][0]"
   ]
  },
  {
   "cell_type": "code",
   "execution_count": 17,
   "id": "7aed3271",
   "metadata": {},
   "outputs": [
    {
     "name": "stdout",
     "output_type": "stream",
     "text": [
      "画像の(横,縦)サイズ：(1936, 1216)\n",
      "画像の枚数：600\n",
      "フレームレート(fps)：5\n"
     ]
    }
   ],
   "source": [
    "# 学習用動画データのロード\n",
    "video = cv2.VideoCapture(train_movie_path)\n",
    "width = int(video.get(cv2.CAP_PROP_FRAME_WIDTH))\n",
    "height = int(video.get(cv2.CAP_PROP_FRAME_HEIGHT))\n",
    "size = (width, height)\n",
    "frame_count = int(video.get(cv2.CAP_PROP_FRAME_COUNT))\n",
    "frame_rate = int(video.get(cv2.CAP_PROP_FPS))\n",
    "\n",
    "print(\"画像の(横,縦)サイズ：\" + str(size))\n",
    "print(\"画像の枚数：\" + str(frame_count))\n",
    "print(\"フレームレート(fps)：\" + str(frame_rate))"
   ]
  },
  {
   "cell_type": "code",
   "execution_count": 23,
   "id": "0d8301bb",
   "metadata": {},
   "outputs": [
    {
     "name": "stdout",
     "output_type": "stream",
     "text": [
      "['Car', 'Bus', 'Truck', 'Svehicle', 'Pedestrian', 'Motorbike', 'Bicycle', 'Train', 'Signal', 'Signs']\n",
      "Car: RGB is (255, 0, 0)\n",
      "Bus: RGB is (255, 153, 0)\n",
      "Truck: RGB is (204, 255, 0)\n",
      "Svehicle: RGB is (51, 255, 0)\n",
      "Pedestrian: RGB is (0, 255, 102)\n",
      "Motorbike: RGB is (0, 255, 255)\n",
      "Bicycle: RGB is (0, 102, 255)\n",
      "Train: RGB is (51, 0, 255)\n",
      "Signal: RGB is (204, 0, 255)\n",
      "Signs: RGB is (255, 0, 153)\n"
     ]
    }
   ],
   "source": [
    "class CategoriesReader():\n",
    "    categories = []\n",
    "    categories_color = {}\n",
    "    def __init__(self, categories_file_path):\n",
    "        with open(categories_file_path, 'r') as f:\n",
    "            categories = f.readlines()\n",
    "            self.categories = [c.strip() for c in categories] # 改行文字の削除\n",
    "        self.assign_colors()\n",
    "    def get_categories(self):\n",
    "        return self.categories\n",
    "\n",
    "    def assign_colors(self):\n",
    "        '''\n",
    "        HSVの色相(H)をカテゴリ数で分割し、カテゴリごとに色を割り当てる\n",
    "        '''\n",
    "        cat_num = len(self.categories)\n",
    "        for i, category in enumerate(self.categories):\n",
    "            h = int(360 / (cat_num)) * i\n",
    "            s = 100 # 100%\n",
    "            v = 100 # 100%\n",
    "            color = ImageColor.getrgb(\"hsv({},{}%,{}%)\".format(str(h), str(s), str(v)))\n",
    "            self.categories_color[category] = color\n",
    "\n",
    "    def get_category_color(self, category):\n",
    "        return self.categories_color[category]\n",
    "\n",
    "# カテゴリファイルの読み込みを行う\n",
    "categories = CategoriesReader(categories_path)\n",
    "category_names = categories.get_categories()\n",
    "print(category_names)\n",
    "\n",
    "# 矩形描画用にカテゴリごとに色を割り当てられているのを確認する\n",
    "for category in category_names:\n",
    "    print(\"{}: RGB is {}\".format(category , str(categories.get_category_color(category))))"
   ]
  },
  {
   "cell_type": "code",
   "execution_count": 11,
   "id": "0f4ce3d5",
   "metadata": {},
   "outputs": [
    {
     "data": {
      "text/plain": [
       "{'id': 56, 'box2d': [655, 194, 754, 236]}"
      ]
     },
     "execution_count": 11,
     "metadata": {},
     "output_type": "execute_result"
    }
   ],
   "source": [
    "# 一つの真値の座標をとりだしてみる\n",
    "# 動画の最初のフレームの、信号器とされている領域の1つ目のデータについて、\n",
    "# そのidと領域を表す矩形の情報[left, top, right, bottom]を取得する。\n",
    "train_annotations_json['sequence'][0]['Signal'][0]"
   ]
  },
  {
   "cell_type": "code",
   "execution_count": 25,
   "id": "fd39778f",
   "metadata": {},
   "outputs": [],
   "source": [
    "# シーケンス番号\n",
    "sequence = 0\n",
    "\n",
    "# 動画保存用にVideoWriterオブジェクト生成\n",
    "fmt = cv2.VideoWriter_fourcc('m', 'p', '4', 'v')\n",
    "writer = cv2.VideoWriter('./result.mp4', fmt, frame_rate, size)\n",
    "\n",
    "while True:\n",
    "    ret, frame = video.read()\n",
    "    if ret is False:\n",
    "        break\n",
    "    # Jsonファイルからシーケンス番号に関連するカテゴリを読み込む\n",
    "    for category in category_names:\n",
    "        category_values = train_annotations_json['sequence'][sequence].get(category)\n",
    "        if category_values is not None:\n",
    "            # 矩形を検出したら\n",
    "            for rect_info in category_values:\n",
    "                id_number = rect_info['id']\n",
    "                box2d = rect_info['box2d']\n",
    "                # 画像に矩形を描画する\n",
    "                pt1 = (box2d[0], box2d[1])\n",
    "                pt2 = (box2d[2], box2d[3])\n",
    "                color = categories.get_category_color(category)\n",
    "                cv2.rectangle(frame, pt1, pt2, color, thickness=5)\n",
    "                # 矩形の上にカテゴリとid番号を記述する\n",
    "                # 画像，テキスト，位置（左下），フォント，スケール，色，線太さ，種類\n",
    "                cv2.putText(frame, category, pt1, cv2.FONT_HERSHEY_PLAIN, 1.5, color, 1, cv2.LINE_AA)\n",
    "    writer.write(frame)\n",
    "    sequence += 1\n",
    "writer.release()"
   ]
  },
  {
   "cell_type": "code",
   "execution_count": 7,
   "id": "7f5ca32d",
   "metadata": {},
   "outputs": [],
   "source": [
    "video.release()\n",
    "cv2.destroyAllWindows()"
   ]
  }
 ],
 "metadata": {
  "kernelspec": {
   "display_name": "Python 3",
   "language": "python",
   "name": "python3"
  },
  "language_info": {
   "codemirror_mode": {
    "name": "ipython",
    "version": 3
   },
   "file_extension": ".py",
   "mimetype": "text/x-python",
   "name": "python",
   "nbconvert_exporter": "python",
   "pygments_lexer": "ipython3",
   "version": "3.7.1"
  }
 },
 "nbformat": 4,
 "nbformat_minor": 5
}
